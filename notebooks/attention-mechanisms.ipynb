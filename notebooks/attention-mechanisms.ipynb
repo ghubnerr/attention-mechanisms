{
  "cells": [
    {
      "cell_type": "markdown",
      "metadata": {
        "id": "UBh9nhGJ6VWT"
      },
      "source": [
        "# A Survey on Attention Mechanisms"
      ]
    },
    {
      "cell_type": "markdown",
      "metadata": {
        "id": "5VvyYOqXfes0"
      },
      "source": [
        "### References"
      ]
    },
    {
      "cell_type": "markdown",
      "metadata": {
        "id": "-_wSaCgU6S1m"
      },
      "source": [
        "```\n",
        "@misc{minimax2025minimax01scalingfoundationmodels,\n",
        "      title={MiniMax-01: Scaling Foundation Models with Lightning Attention},\n",
        "      author={MiniMax and Aonian Li and Bangwei Gong and Bo Yang and Boji Shan and Chang Liu and Cheng Zhu and Chunhao Zhang and Congchao Guo and Da Chen and Dong Li and Enwei Jiao and Gengxin Li and Guojun Zhang and Haohai Sun and Houze Dong and Jiadai Zhu and Jiaqi Zhuang and Jiayuan Song and Jin Zhu and Jingtao Han and Jingyang Li and Junbin Xie and Junhao Xu and Junjie Yan and Kaishun Zhang and Kecheng Xiao and Kexi Kang and Le Han and Leyang Wang and Lianfei Yu and Liheng Feng and Lin Zheng and Linbo Chai and Long Xing and Meizhi Ju and Mingyuan Chi and Mozhi Zhang and Peikai Huang and Pengcheng Niu and Pengfei Li and Pengyu Zhao and Qi Yang and Qidi Xu and Qiexiang Wang and Qin Wang and Qiuhui Li and Ruitao Leng and Shengmin Shi and Shuqi Yu and Sichen Li and Songquan Zhu and Tao Huang and Tianrun Liang and Weigao Sun and Weixuan Sun and Weiyu Cheng and Wenkai Li and Xiangjun Song and Xiao Su and Xiaodong Han and Xinjie Zhang and Xinzhu Hou and Xu Min and Xun Zou and Xuyang Shen and Yan Gong and Yingjie Zhu and Yipeng Zhou and Yiran Zhong and Yongyi Hu and Yuanxiang Fan and Yue Yu and Yufeng Yang and Yuhao Li and Yunan Huang and Yunji Li and Yunpeng Huang and Yunzhi Xu and Yuxin Mao and Zehan Li and Zekang Li and Zewei Tao and Zewen Ying and Zhaoyang Cong and Zhen Qin and Zhenhua Fan and Zhihang Yu and Zhuo Jiang and Zijia Wu},\n",
        "      year={2025},\n",
        "      eprint={2501.08313},\n",
        "      archivePrefix={arXiv},\n",
        "      primaryClass={cs.CL},\n",
        "      url={https://arxiv.org/abs/2501.08313},\n",
        "}`=\n",
        "```"
      ]
    },
    {
      "cell_type": "markdown",
      "metadata": {
        "id": "jT1oERHzfbbI"
      },
      "source": [
        "```\n",
        "@article{liu2024deepseek,\n",
        "  title={Deepseek-v2: A strong, economical, and efficient mixture-of-experts language model},\n",
        "  author={Liu, Aixin and Feng, Bei and Wang, Bin and Wang, Bingxuan and Liu, Bo and Zhao, Chenggang and Dengr, Chengqi and Ruan, Chong and Dai, Damai and Guo, Daya and others},\n",
        "  journal={arXiv preprint arXiv:2405.04434},\n",
        "  year={2024}\n",
        "}\n",
        "```"
      ]
    },
    {
      "cell_type": "markdown",
      "metadata": {
        "id": "R9dJuVwZfJB7"
      },
      "source": [
        "```\n",
        "@article{ainslie2023gqa,\n",
        "  title={Gqa: Training generalized multi-query transformer models from multi-head checkpoints},\n",
        "  author={Ainslie, Joshua and Lee-Thorp, James and De Jong, Michiel and Zemlyanskiy, Yury and Lebr{\\'o}n, Federico and Sanghai, Sumit},\n",
        "  journal={arXiv preprint arXiv:2305.13245},\n",
        "  year={2023}\n",
        "}\n",
        "```"
      ]
    },
    {
      "cell_type": "markdown",
      "metadata": {
        "id": "UpMvTpxEfn0y"
      },
      "source": [
        "```\n",
        "@article{shazeer2019fast,\n",
        "  title={Fast transformer decoding: One write-head is all you need},\n",
        "  author={Shazeer, Noam},\n",
        "  journal={arXiv preprint arXiv:1911.02150},\n",
        "  year={2019}\n",
        "}\n",
        "```"
      ]
    },
    {
      "cell_type": "markdown",
      "metadata": {
        "id": "1fsjHW6ofder"
      },
      "source": [
        "### Code"
      ]
    },
    {
      "cell_type": "code",
      "execution_count": null,
      "metadata": {
        "colab": {
          "base_uri": "https://localhost:8080/"
        },
        "id": "qpcfShWRIyn5",
        "outputId": "9759a873-0a4f-4274-ac84-1f5ecd04c3ae"
      },
      "outputs": [
        {
          "name": "stdout",
          "output_type": "stream",
          "text": [
            "Collecting jaxtyping\n",
            "  Downloading jaxtyping-0.2.38-py3-none-any.whl.metadata (6.6 kB)\n",
            "Requirement already satisfied: treescope in /usr/local/lib/python3.11/dist-packages (0.1.8)\n",
            "Collecting wadler-lindig>=0.1.3 (from jaxtyping)\n",
            "  Downloading wadler_lindig-0.1.3-py3-none-any.whl.metadata (17 kB)\n",
            "Requirement already satisfied: numpy>=1.25.2 in /usr/local/lib/python3.11/dist-packages (from treescope) (1.26.4)\n",
            "Downloading jaxtyping-0.2.38-py3-none-any.whl (56 kB)\n",
            "\u001b[2K   \u001b[90m━━━━━━━━━━━━━━━━━━━━━━━━━━━━━━━━━━━━━━━━\u001b[0m \u001b[32m56.4/56.4 kB\u001b[0m \u001b[31m2.3 MB/s\u001b[0m eta \u001b[36m0:00:00\u001b[0m\n",
            "\u001b[?25hDownloading wadler_lindig-0.1.3-py3-none-any.whl (20 kB)\n",
            "Installing collected packages: wadler-lindig, jaxtyping\n",
            "Successfully installed jaxtyping-0.2.38 wadler-lindig-0.1.3\n"
          ]
        }
      ],
      "source": [
        "!pip install jaxtyping treescope"
      ]
    },
    {
      "cell_type": "code",
      "execution_count": null,
      "metadata": {
        "id": "YquMRQk5ACi_"
      },
      "outputs": [],
      "source": [
        "import treescope\n",
        "treescope.basic_interactive_setup(autovisualize_arrays=True)"
      ]
    },
    {
      "cell_type": "code",
      "execution_count": 1,
      "metadata": {
        "id": "dyIpHPV89cPZ"
      },
      "outputs": [],
      "source": [
        "from flax import linen as nn\n",
        "from dataclasses import dataclass\n",
        "import jax\n",
        "import jax.numpy as jnp\n",
        "import jax.sharding as shd\n",
        "from jaxtyping import Float, Int, Bool, Array\n",
        "from typing import Any, Callable, Dict, List, Optional, Tuple, Union\n",
        "import matplotlib.pyplot as plt\n",
        "import numpy as np"
      ]
    },
    {
      "cell_type": "markdown",
      "metadata": {
        "id": "yJ2aqCMbD5Fd"
      },
      "source": [
        "### Configurations"
      ]
    },
    {
      "cell_type": "code",
      "execution_count": null,
      "metadata": {
        "id": "NV9FtFG26URk"
      },
      "outputs": [],
      "source": [
        "@dataclass\n",
        "class MiniMaxConfig:\n",
        "    # MoE\n",
        "    ffw_hidden_size: int = 9216\n",
        "    num_experts: int = 32\n",
        "    top_k: int = 2  # top-2 routing on MoE\n",
        "    aux_loss_coef: float = 0.01\n",
        "\n",
        "    # Attn\n",
        "    num_heads: int = 64\n",
        "    head_dim: int = 128\n",
        "    group_size: int = 8  # for Group-Query Attention\n",
        "    num_layers: int = 80\n",
        "    linear_per_softmax: int = 7 # 7 transnormers, then 1 transformer\n",
        "    hidden_size: int = 6144\n",
        "\n",
        "    deepnorm_alpha: float = 0.81\n",
        "\n",
        "    # RoPE\n",
        "    rope_fraction: float = 0.5\n",
        "    rope_base_freq: float = 10000"
      ]
    },
    {
      "cell_type": "markdown",
      "metadata": {
        "id": "OHfkj3lPEvyB"
      },
      "source": [
        "## Rotatory Positional Embeddings (RoPE)"
      ]
    },
    {
      "cell_type": "markdown",
      "metadata": {
        "id": "CCoAjn9mIW5t"
      },
      "source": [
        "We apply RoPE inside the attention mechanism:\n",
        "$$(Q, K) \\longrightarrow (\\tilde{Q}, \\tilde{K}) $$"
      ]
    },
    {
      "cell_type": "markdown",
      "metadata": {
        "id": "BtR1SWrWIRrn"
      },
      "source": [
        "RoPE applies a rotation to every 2D pair $(x_{2i}, x_{2i+1})$"
      ]
    },
    {
      "cell_type": "markdown",
      "metadata": {
        "id": "WxQmav0-IKyB"
      },
      "source": [
        "$$\n",
        "\\begin{pmatrix}\n",
        "x_{2i}^{\\text{rot}} \\\\\n",
        "x_{2i+1}^{\\text{rot}}\n",
        "\\end{pmatrix}\n",
        "=\n",
        "\\begin{pmatrix}\n",
        "\\cos(\\theta_{p,i}) & -\\sin(\\theta_{p,i}) \\\\\n",
        "\\sin(\\theta_{p,i}) & \\cos(\\theta_{p,i})\n",
        "\\end{pmatrix}\n",
        "\\begin{pmatrix}\n",
        "x_{2i} \\\\[6pt]\n",
        "x_{2i+1}\n",
        "\\end{pmatrix},\n",
        "$$"
      ]
    },
    {
      "cell_type": "markdown",
      "metadata": {
        "id": "VGA7h7LH7L-d"
      },
      "source": [
        "$$\\theta_i\n",
        "\\;=\\; \\frac{1}{\\bigl(\\text{rope_base_freq}\\bigr)^{\\,\\frac{2\\,i}{\\text{rot_dim}}}}\n",
        "\\quad \\text{for} \\; i=0,\\dots,\\frac{\\text{rot_dim}}{2}-1.$$"
      ]
    },
    {
      "cell_type": "markdown",
      "metadata": {
        "id": "7LTlEI4P7Vsa"
      },
      "source": [
        "$$\n",
        "p \\;\\in\\; \\{0, 1, 2, \\dots, \\text{seq_len}-1\\}.\n",
        "$$"
      ]
    },
    {
      "cell_type": "markdown",
      "metadata": {
        "id": "de92BpCI7a7u"
      },
      "source": [
        "$$\\alpha_{p,i} \\;=\\; p \\cdot \\theta_i.$$"
      ]
    },
    {
      "cell_type": "markdown",
      "metadata": {
        "id": "2zDX1wJ57gAE"
      },
      "source": [
        "$$\n",
        "\\sin_{p,i} \\;=\\; \\sin(\\alpha_{p,i}),\n",
        "\\quad\n",
        "\\cos_{p,i} \\;=\\; \\cos(\\alpha_{p,i}).\n",
        "$$"
      ]
    },
    {
      "cell_type": "markdown",
      "metadata": {
        "id": "a6eS4UcsBK1h"
      },
      "source": [
        "Usage:\n",
        "```\n",
        "class YourClass(nn.Module):\n",
        "    config: MiniMaxConfig\n",
        "\n",
        "    def setup(self):\n",
        "        self.rope = RotatoryPositionEmbedding(config=config)\n",
        "\n",
        "    def __call__(self, *args):\n",
        "        q_rot, k_rot = self.rope(q, k)\n",
        "```"
      ]
    },
    {
      "cell_type": "code",
      "execution_count": null,
      "metadata": {
        "id": "wcahqR_iE1vq"
      },
      "outputs": [],
      "source": [
        "class RotaryPositionEmbedding(nn.Module):\n",
        "    \"\"\"\n",
        "    A Flax module that applies partial Rotary Position Embeddings (RoPE) to\n",
        "    query and key tensors. By default, only a fraction of each head dimension\n",
        "    (specified by `rope_fraction`) is rotated, and the remaining dimensions\n",
        "    remain unaltered.\n",
        "\n",
        "    Attributes:\n",
        "        config (MiniMaxConfig): A configuration object specifying RoPE fraction\n",
        "            and base frequency.\n",
        "    \"\"\"\n",
        "    config: MiniMaxConfig\n",
        "\n",
        "    def _get_rotary_matrix(\n",
        "        self,\n",
        "        seq_len: int,\n",
        "        rot_dim: int\n",
        "    ) -> Tuple[Float[Array, \"seq rot_dim//2\"], Float[Array, \"seq rot_dim//2\"]]:\n",
        "        \"\"\"\n",
        "        Generate the sine and cosine matrices for the rotary transformations.\n",
        "\n",
        "        Args:\n",
        "            seq_len (int): Length of the sequence (number of positions).\n",
        "            rot_dim (int): Number of head-dimension channels to which\n",
        "                           RoPE is applied.\n",
        "\n",
        "        Returns:\n",
        "            sin (Float[Array, \"seq rot_dim//2\"]):\n",
        "                The sine values, shape = [seq_len, rot_dim//2].\n",
        "            cos (Float[Array, \"seq rot_dim//2\"]):\n",
        "                The cosine values, shape = [seq_len, rot_dim//2].\n",
        "        \"\"\"\n",
        "        theta = 1.0 / (self.config.rope_base_freq **\n",
        "                      (2 * jnp.arange(0, rot_dim // 2) / rot_dim))\n",
        "        positions = jnp.arange(seq_len, dtype=jnp.float32)\n",
        "        angles = positions[:, None] * theta[None, :]\n",
        "        return jnp.sin(angles), jnp.cos(angles)\n",
        "\n",
        "    @nn.compact\n",
        "    def __call__(\n",
        "        self,\n",
        "        q: Float[Array, \"batch seq_len num_heads head_dim\"],\n",
        "        k: Float[Array, \"batch seq_len num_heads head_dim\"]\n",
        "    ) -> Tuple[\n",
        "        Float[Array, \"batch seq_len num_heads head_dim\"],\n",
        "        Float[Array, \"batch seq_len num_heads head_dim\"]\n",
        "    ]:\n",
        "        \"\"\"\n",
        "        Applies rotary position embeddings to the first `rot_dim` channels\n",
        "        of query (q) and key (k) tensors. The remaining channels of each head\n",
        "        dimension are left unrotated.\n",
        "\n",
        "        Args:\n",
        "            q (Float[Array, \"batch seq_len num_heads head_dim\"]):\n",
        "                The query tensor.\n",
        "            k (Float[Array, \"batch seq_len num_heads head_dim\"]):\n",
        "                The key tensor.\n",
        "\n",
        "        Returns:\n",
        "            A tuple (q_rot, k_rot) where:\n",
        "            - q_rot (Float[Array, \"batch seq_len num_heads head_dim\"]):\n",
        "                The query tensor after applying partial RoPE.\n",
        "            - k_rot (Float[Array, \"batch seq_len num_heads head_dim\"]):\n",
        "                The key tensor after applying partial RoPE.\n",
        "        \"\"\"\n",
        "        batch_size, seq_len, num_heads, head_dim = q.shape\n",
        "        rot_dim = int(self.config.rope_fraction * head_dim)\n",
        "\n",
        "        # Generate sine and cosine for the rotary transformation\n",
        "        sin, cos = self._get_rotary_matrix(seq_len, rot_dim)\n",
        "\n",
        "        # Reshape for broadcasting:\n",
        "        # sin, cos -> [1, seq, 1, rot_dim//2, 1]\n",
        "        sin = sin[None, :, None, :]\n",
        "        cos = cos[None, :, None, :]\n",
        "\n",
        "        def rotate_tensor(x: Float[Array, \"batch seq_len num_heads head_dim\"]\n",
        "                          ) -> Float[Array, \"batch seq_len num_heads head_dim\"]:\n",
        "            \"\"\"\n",
        "            Rotate the first `rot_dim` channels of x with the RoPE transformation.\n",
        "            \"\"\"\n",
        "            x_rot = x[..., :rot_dim].reshape(*x.shape[:-1], rot_dim // 2, 2)\n",
        "            x_rot = jnp.stack([\n",
        "                x_rot[..., 0] * cos - x_rot[..., 1] * sin,\n",
        "                x_rot[..., 0] * sin + x_rot[..., 1] * cos\n",
        "            ], axis=-1)\n",
        "\n",
        "            return jnp.concatenate([\n",
        "                x_rot.reshape(*x.shape[:-1], rot_dim),\n",
        "                x[..., rot_dim:]\n",
        "            ], axis=-1)\n",
        "\n",
        "        return rotate_tensor(q), rotate_tensor(k)"
      ]
    },
    {
      "cell_type": "markdown",
      "metadata": {
        "id": "e0JAICN195EW"
      },
      "source": [
        "### Testing RoPE on Key-Query Pairs"
      ]
    },
    {
      "cell_type": "code",
      "execution_count": null,
      "metadata": {
        "id": "qsJ-l19O-Oui"
      },
      "outputs": [],
      "source": [
        "config = MiniMaxConfig(\n",
        "    # Rotate a fraction of dimensions (set <1.0 for partial rotation)\n",
        "    rope_fraction=0.5,\n",
        "    rope_base_freq=10000.0\n",
        ")\n",
        "\n",
        "rope_module = RotaryPositionEmbedding(config=config)\n",
        "\n",
        "batch_size = 1\n",
        "seq_length = 50\n",
        "num_heads = 4\n",
        "head_dim = 128"
      ]
    },
    {
      "cell_type": "code",
      "execution_count": null,
      "metadata": {
        "id": "tFHrW1nXDvUa"
      },
      "outputs": [],
      "source": [
        "# Random queries and keys for demonstration\n",
        "q = jnp.ones((batch_size, seq_length, num_heads, head_dim))\n",
        "k = jnp.ones((batch_size, seq_length, num_heads, head_dim))\n",
        "\n",
        "variables = rope_module.init(jax.random.PRNGKey(0), q, k)"
      ]
    },
    {
      "cell_type": "code",
      "execution_count": null,
      "metadata": {
        "id": "18euWoamDwx6"
      },
      "outputs": [],
      "source": [
        "q_rot, k_rot = rope_module.apply(variables, q, k)\n",
        "\n",
        "# Visualization of the rotated query tensor\n",
        "# Taking the first head from the first batch for visualization\n",
        "q_rot_np = np.array(q_rot[0, :, 0, :])"
      ]
    },
    {
      "cell_type": "code",
      "execution_count": null,
      "metadata": {
        "colab": {
          "base_uri": "https://localhost:8080/",
          "height": 527
        },
        "id": "b09vdq2OBnXN",
        "outputId": "25982efa-f9d6-4c6c-d3e0-ed030e0ef2b6"
      },
      "outputs": [
        {
          "data": {
            "image/png": "[encoded data removed]",
            "text/plain": [
              "<Figure size 2000x800 with 2 Axes>"
            ]
          },
          "metadata": {},
          "output_type": "display_data"
        }
      ],
      "source": [
        "plt.figure(figsize=(20, 8))\n",
        "plt.imshow(q_rot_np, cmap='viridis', aspect='auto')\n",
        "plt.colorbar()\n",
        "plt.title('Rotary Positional Embeddings (Applied to Query)')\n",
        "plt.xlabel('Dimension')\n",
        "plt.ylabel('Position')\n",
        "plt.tight_layout()\n",
        "plt.show()"
      ]
    },
    {
      "cell_type": "markdown",
      "metadata": {
        "id": "usAKjnfJFMJR"
      },
      "source": [
        "### Initialization Strategies"
      ]
    },
    {
      "cell_type": "code",
      "execution_count": null,
      "metadata": {
        "id": "nKipf32iFKhF"
      },
      "outputs": [],
      "source": [
        "xavier_uniform = nn.initializers.variance_scaling(\n",
        "    scale=1.0,\n",
        "    mode='fan_avg',\n",
        "    distribution='uniform'\n",
        ")"
      ]
    },
    {
      "cell_type": "markdown",
      "metadata": {
        "id": "ExaWzeUHGnEt"
      },
      "source": [
        "## RMS Norm"
      ]
    },
    {
      "cell_type": "markdown",
      "metadata": {
        "id": "qXmCvNvrV2sz"
      },
      "source": [
        "$$\n",
        "\\text{RMSNorm}(x) = g \\odot \\frac{x}{\\sqrt{\\frac{1}{d} \\sum_{i=1}^{d} x_i^2 + \\epsilon}}\n",
        "$$"
      ]
    },
    {
      "cell_type": "code",
      "execution_count": null,
      "metadata": {
        "id": "Nk05puqPVWfA"
      },
      "outputs": [],
      "source": [
        "class RMSNorm(nn.Module):\n",
        "    \"\"\"\n",
        "    Implements Root Mean Square Layer Normalization (RMSNorm) using Flax.\n",
        "\n",
        "    RMSNorm normalizes the input across the last dimension based on the\n",
        "    root mean square of the values in that dimension.\n",
        "\n",
        "    Attributes:\n",
        "        epsilon (float): A small constant added for numerical stability to\n",
        "            avoid division by zero.\n",
        "    \"\"\"\n",
        "    epsilon: float = 1e-6\n",
        "\n",
        "    @nn.compact\n",
        "    def __call__(\n",
        "        self,\n",
        "        x: Float[Array, \"batch seq_len hidden_size\"],\n",
        "    ) -> Float[Array, \"batch seq_len hidden_size\"]:\n",
        "        \"\"\"\n",
        "        Forward pass of the RMSNorm layer.\n",
        "\n",
        "        This normalizes the input tensor along its last dimension, then\n",
        "        optionally scales it by a learned parameter vector.\n",
        "\n",
        "        Args:\n",
        "            x (Float[Array, \"batch seq_len hidden_size\"]):\n",
        "                The input tensor of shape (batch, seq_len, hidden_size).\n",
        "\n",
        "        Returns:\n",
        "            Float[Array, \"batch seq_len hidden_size\"]:\n",
        "                The normalized output tensor of the same shape as the input.\n",
        "        \"\"\"\n",
        "        dtype = x.dtype\n",
        "\n",
        "        # Convert input to float32 for numerical stability in norm calculations\n",
        "        x = x.astype(jnp.float32)\n",
        "\n",
        "        g = self.param(\n",
        "            'scale',\n",
        "            nn.initializers.ones,\n",
        "            (x.shape[-1],)\n",
        "        )\n",
        "\n",
        "        rms = jnp.sqrt(\n",
        "            jnp.mean(jnp.square(x), axis=-1, keepdims=True) + self.epsilon\n",
        "        )\n",
        "\n",
        "        x_norm = x / rms\n",
        "\n",
        "        # Multiply by the learned scale, then cast back to the original dtype\n",
        "        return (g * x_norm).astype(dtype)"
      ]
    },
    {
      "cell_type": "markdown",
      "metadata": {
        "id": "hsn0yY-GROHZ"
      },
      "source": [
        "# Softmax Attention"
      ]
    },
    {
      "cell_type": "markdown",
      "metadata": {
        "id": "g2b4CY3poVbN"
      },
      "source": [
        "## Equations\n",
        "##### Linear Projection\n",
        "$$\n",
        "Q = X W_Q + b_Q, \\quad K = X W_K + b_K, \\quad V = X W_V + b_V\n",
        "$$\n",
        "##### Reshaping\n",
        "$$\n",
        "Q \\in \\mathbb{R}^{(B, S, N_h, d_h)}, \\quad K, V \\in \\mathbb{R}^{(B, S, N_{kv}, d_h)}\n",
        "$$\n",
        "\n",
        "##### Rotatory Positional Embeddings\n",
        "$$\n",
        "Q' = \\text{RoPE}(Q), \\quad K' = \\text{RoPE}(K)\n",
        "$$\n",
        "\n",
        "##### Transpose for Attention Computation\n",
        "$$\n",
        "Q' \\in \\mathbb{R}^{(B, N_h, S, d_h)}, \\quad K' \\in \\mathbb{R}^{(B, N_{kv}, S, d_h)}, \\quad V \\in \\mathbb{R}^{(B, N_{kv}, S, d_h)}\n",
        "$$\n",
        "\n",
        "#####  Repeat K and V for Grouped Query Attention\n",
        "\n",
        "$$\n",
        "K'' = \\text{repeat}(K', \\text{group_size}, \\text{axis}=1) \\\\ V'' = \\text{repeat}(V, \\text{group_size}, \\text{axis}=1)\n",
        "$$\n",
        "\n",
        "##### Scaled Dot-Product Attention Score Computation\n",
        "$$\n",
        "A = \\frac{Q' K''^T}{\\sqrt{d_h}}\n",
        "$$\n",
        "\n",
        "##### Masking (if applied)\n",
        "\n",
        "$$\n",
        "\\begin{array}{c} A'_{ij} =\n",
        "\\begin{cases}\n",
        "A_{ij}, & \\text{if mask}_{ij} = 1 \\\\\n",
        "-10^9, & \\text{if mask}_{ij} = 0\n",
        "\\end{cases} \\end{array}\n",
        "$$\n",
        "\n",
        "##### Softmax Computation\n",
        "$$\n",
        "P = \\text{softmax}(A', \\text{axis}=-1)\n",
        "$$\n",
        "\n",
        "#####  Attention Output Computation\n",
        "$$\n",
        "O = P V''\n",
        "O \\in \\mathbb{R}^{(B, N_h, S, d_h)}\n",
        "$$\n",
        "\n",
        "\n",
        "##### Reshape and Final Projection\n",
        "$$\n",
        "O' = \\text{reshape}(\\text{transpose}(O, (0, 2, 1, 3)), (B, S, N_h \\cdot d_h))\n",
        "Y = O' W_O + b_O\n",
        "$$\n",
        "\n",
        "where $W_O \\in \\mathbb{R}^{(N_h \\cdot d_h, H)}$ projects back to the hidden size."
      ]
    },
    {
      "cell_type": "code",
      "execution_count": null,
      "metadata": {
        "id": "W0k-_ofj9mWf"
      },
      "outputs": [],
      "source": [
        "class SoftmaxAttention(nn.Module):\n",
        "    \"\"\"\n",
        "    Implements standard scaled dot-product attention with an optional\n",
        "    Grouped Query Attention (GQA) mechanism using repeated keys and values.\n",
        "    \"\"\"\n",
        "    config: MiniMaxConfig\n",
        "\n",
        "    def setup(self):\n",
        "        self.num_heads = self.config.num_heads\n",
        "        self.head_dim = self.config.head_dim\n",
        "        self.group_size = self.config.group_size   # => \"kv heads\"\n",
        "        self.hidden_size = self.config.hidden_size\n",
        "\n",
        "        # For GQA:\n",
        "        # - Q is projected to 64 heads\n",
        "        # - K, V are projected to only 8 heads, repeated at runtime.\n",
        "        self.num_kv_heads = self.num_heads // self.group_size  # 64 // 8 = 8\n",
        "\n",
        "        self.rope = RotaryPositionEmbedding(config=self.config)\n",
        "\n",
        "        self.q_proj = nn.Dense(features=self.num_heads * self.head_dim,\n",
        "                               kernel_init=xavier_uniform, name=\"q_proj\")\n",
        "        self.k_proj = nn.Dense(features=self.num_kv_heads * self.head_dim,\n",
        "                               kernel_init=xavier_uniform, name=\"k_proj\")\n",
        "        self.v_proj = nn.Dense(features=self.num_kv_heads * self.head_dim,\n",
        "                               kernel_init=xavier_uniform, name=\"v_proj\")\n",
        "        self.out_proj = nn.Dense(features=self.hidden_size,\n",
        "                               kernel_init=xavier_uniform, name=\"out_proj\")\n",
        "\n",
        "    def __call__(self,\n",
        "                 hidden_states: Float[Array, \"batch seq_len hidden_size\"],\n",
        "                 mask: Optional[Float[Array, \"batch 1 seq_len seq_len\"]] = None\n",
        "                ) -> Float[Array, \"batch seq_len hidden_size\"]:\n",
        "        \"\"\"\n",
        "        Forward pass of the softmax attention mechanism.\n",
        "\n",
        "        Args:\n",
        "            hidden_states: A float Tensor of shape (batch, seq_len, hidden_size),\n",
        "                where hidden_size can be num_heads * head_dim or similar.\n",
        "            mask: An optional boolean or float mask of shape\n",
        "                (batch, 1, seq_len, seq_len) indicating which positions\n",
        "                are valid (True) or invalid (False). If True means keep,\n",
        "                those entries are left as-is. If False, they are set\n",
        "                to a large negative number before softmax.\n",
        "\n",
        "        Returns:\n",
        "            A float Tensor of shape (batch, seq_len, hidden_size)\n",
        "            after applying the attention mechanism.\n",
        "        \"\"\"\n",
        "\n",
        "        batch_size, seq_len, _ = hidden_states.shape\n",
        "\n",
        "        q = self.q_proj(hidden_states)  # (b, s, 8192)\n",
        "        k = self.k_proj(hidden_states)  # (b, s, 1024)\n",
        "        v = self.v_proj(hidden_states)  # (b, s, 1024)\n",
        "\n",
        "        # Q => (b, s, 64, 128), K => (b, s, 8, 128), V => (b, s, 8, 128)\n",
        "        q = q.reshape(batch_size, seq_len, self.num_heads, self.head_dim)\n",
        "        k = k.reshape(batch_size, seq_len, self.num_kv_heads, self.head_dim)\n",
        "        v = v.reshape(batch_size, seq_len, self.num_kv_heads, self.head_dim)\n",
        "\n",
        "        q, k = self.rope(q, k)\n",
        "\n",
        "        # Q => (b, 64, s, 128), K => (b, 8, s, 128), V => (b, 8, s, 128)\n",
        "        q = jnp.transpose(q, (0, 2, 1, 3))\n",
        "        k = jnp.transpose(k, (0, 2, 1, 3))\n",
        "        v = jnp.transpose(v, (0, 2, 1, 3))\n",
        "\n",
        "        # K, V => (b, 8, s, 128) => replicate 8 times => (b, 64, s, 128)\n",
        "        k = jnp.repeat(k, self.group_size, axis=1)\n",
        "        v = jnp.repeat(v, self.group_size, axis=1)\n",
        "\n",
        "        # Scaled dot-product attention => attn_scores => shape (b, 64, s, s)\n",
        "        attn_scores = jnp.einsum(\"bhqd,bhkd->bhqk\", q, k)\n",
        "        attn_scores = attn_scores / jnp.sqrt(self.head_dim)\n",
        "\n",
        "        # (Optional) Apply causal or padding mask\n",
        "        if mask is not None:\n",
        "            # mask shape is (b, 1, s, s), broadcast to (b, 64, s, s)\n",
        "            big_neg = jnp.array(-1e9, dtype=attn_scores.dtype)\n",
        "            attn_scores = jnp.where(mask, attn_scores, big_neg)\n",
        "\n",
        "        # Softmax over the last dimension (the \"key\" positions)\n",
        "        attn_probs = nn.softmax(attn_scores, axis=-1)\n",
        "\n",
        "        # Apply attention to values => (b, 64, s, 128)\n",
        "        attn_output = jnp.einsum(\"bhqk,bhkd->bhqd\", attn_probs, v)\n",
        "\n",
        "        # Reshape back to (b, s, 64*128=8192) => then project to 6144\n",
        "        attn_output = jnp.transpose(attn_output, (0, 2, 1, 3))\n",
        "        attn_output = attn_output.reshape(batch_size, seq_len, -1)\n",
        "\n",
        "        # Note, from the paper Sec. 2.0 ¶3, it's hard to understand the\n",
        "        # \"hidden size\" == 6144. Usually it's num_heads * head_dim (8192 for us)\n",
        "        # The assumption is that there is this down-projection at the end\n",
        "        return self.out_proj(attn_output)"
      ]
    },
    {
      "cell_type": "markdown",
      "metadata": {
        "id": "rln21YNaWu2_"
      },
      "source": [
        "### Testing Softmax Attention"
      ]
    },
    {
      "cell_type": "code",
      "execution_count": null,
      "metadata": {
        "id": "eQ_9kfn2WwT7"
      },
      "outputs": [],
      "source": [
        "config = MiniMaxConfig(\n",
        "    num_heads=64,\n",
        "    head_dim=128,\n",
        "    group_size=8,\n",
        "    hidden_size=6144,\n",
        "    rope_fraction=0.5,\n",
        "    rope_base_freq=10000.0\n",
        ")\n",
        "\n",
        "attention = SoftmaxAttention(config=config)"
      ]
    },
    {
      "cell_type": "code",
      "execution_count": null,
      "metadata": {
        "colab": {
          "base_uri": "https://localhost:8080/"
        },
        "id": "huUt2tuugspP",
        "outputId": "a0b2a5da-8e4b-4dcd-99be-dc8d921e7c5c"
      },
      "outputs": [
        {
          "name": "stdout",
          "output_type": "stream",
          "text": [
            "Parameter shapes:\n",
            "q_proj {'bias': (8192,), 'kernel': (6144, 8192)}\n",
            "k_proj {'bias': (1024,), 'kernel': (6144, 1024)}\n",
            "v_proj {'bias': (1024,), 'kernel': (6144, 1024)}\n",
            "out_proj {'bias': (6144,), 'kernel': (8192, 6144)}\n",
            "Output shape: (2, 10, 6144)\n"
          ]
        }
      ],
      "source": [
        "rng = jax.random.PRNGKey(0)\n",
        "batch, seq_len, hidden_size = 2, 10, 6144\n",
        "dummy_inputs = jnp.ones((batch, seq_len, hidden_size))\n",
        "\n",
        "mask = jnp.tril(jnp.ones((1, 1, seq_len, seq_len), dtype=bool))\n",
        "\n",
        "# Initialize parameters\n",
        "params = attention.init(rng, dummy_inputs, mask)\n",
        "print(\"Parameter shapes:\")\n",
        "for k, v in params[\"params\"].items():\n",
        "    print(k, jax.tree.map(jnp.shape, v))\n",
        "\n",
        "output = attention.apply(params, dummy_inputs, mask=mask)\n",
        "print(\"Output shape:\", output.shape)"
      ]
    },
    {
      "cell_type": "markdown",
      "metadata": {
        "id": "ZziqVl5jR0GD"
      },
      "source": [
        "# Mixture Of Experts\n",
        "$$\n",
        "h_t = \\sum_{i=1}^E\\text{Softmax}_i(\\text{TopK}(x_t\\cdot W_g))\\cdot FFN_i(x_t)\n",
        "$$"
      ]
    },
    {
      "cell_type": "markdown",
      "metadata": {
        "id": "BPRPM1rLSK-O"
      },
      "source": [
        "TopK(·) denotes the operation that preserves the top 𝑘 scores among all 𝐸 experts while\n",
        "setting the remaining scores to −∞."
      ]
    },
    {
      "cell_type": "code",
      "execution_count": null,
      "metadata": {
        "id": "_hy6frzT9qUy"
      },
      "outputs": [],
      "source": [
        "class ExpertMLP(nn.Module):\n",
        "    \"\"\"Implements individual expert FFN with hidden dimension expansion.\n",
        "\n",
        "    Args:\n",
        "        x: Input tensor of shape [batch, seq_len, hidden] or [tokens, hidden]\n",
        "\n",
        "    Returns:\n",
        "        Transformed tensor with same shape as input\n",
        "    \"\"\"\n",
        "    config: MiniMaxConfig\n",
        "\n",
        "    @nn.compact\n",
        "    def __call__(self, x: Float[Array, \"... hidden_dims\"]) -> Float[Array, \"... hidden_dims\"]:\n",
        "        # Expand to intermediate dimension\n",
        "        x = nn.Dense(self.config.ffw_hidden_size,\n",
        "                   kernel_init=xavier_uniform,\n",
        "                   name=\"expert_expand\")(x)\n",
        "        x = nn.relu(x)\n",
        "        return nn.Dense(self.config.hidden_size,\n",
        "                      kernel_init=xavier_uniform,\n",
        "                      name=\"expert_contract\")(x)"
      ]
    },
    {
      "cell_type": "markdown",
      "metadata": {
        "id": "-QLWiQ9DD20v"
      },
      "source": [
        "#### Testing FFN"
      ]
    },
    {
      "cell_type": "code",
      "execution_count": null,
      "metadata": {
        "colab": {
          "base_uri": "https://localhost:8080/"
        },
        "id": "_ZOSxGEuD4Z1",
        "outputId": "12470766-259c-47b8-d2f1-a545cc6e7e1f"
      },
      "outputs": [
        {
          "name": "stdout",
          "output_type": "stream",
          "text": [
            "\n",
            "=== FFN Test ===\n",
            "Expand layer weights - Mean: 0.0000\n",
            "Expand layer weights - Std: 0.0114\n",
            "Contract layer weights - Mean: 0.0000\n",
            "Contract layer weights - Std: 0.0114\n"
          ]
        }
      ],
      "source": [
        "rng = jax.random.PRNGKey(0)\n",
        "dummy_input = jnp.ones((2, 5, 6144))\n",
        "expert = ExpertMLP(MiniMaxConfig())\n",
        "params = expert.init(rng, dummy_input)\n",
        "\n",
        "expand_weights = params['params']['expert_expand']['kernel']\n",
        "contract_weights = params['params']['expert_contract']['kernel']\n",
        "\n",
        "print(\"\\n=== FFN Test ===\")\n",
        "print(f\"Expand layer weights - Mean: {jnp.mean(expand_weights):.4f}\")\n",
        "print(f\"Expand layer weights - Std: {jnp.std(expand_weights):.4f}\")\n",
        "print(f\"Contract layer weights - Mean: {jnp.mean(contract_weights):.4f}\")\n",
        "print(f\"Contract layer weights - Std: {jnp.std(contract_weights):.4f}\")\n"
      ]
    },
    {
      "cell_type": "code",
      "execution_count": null,
      "metadata": {
        "id": "ohkR0PuE9oT-"
      },
      "outputs": [],
      "source": [
        "class GlobalRouter(nn.Module):\n",
        "    \"\"\"Handles token-to-expert routing with top-k selection and load balancing.\n",
        "\n",
        "    Args:\n",
        "        x: Flattened input tensor of shape [tokens, hidden]\n",
        "\n",
        "    Returns:\n",
        "        Tuple of (expert indices, routing scores, expert mask, aux loss)\n",
        "    \"\"\"\n",
        "    config: MiniMaxConfig\n",
        "\n",
        "    @nn.compact\n",
        "    def __call__(self, x: Float[Array, \"tokens hidden\"]\n",
        "                ) -> Tuple[Int[Array, \"tokens top_k\"],\n",
        "                           Float[Array, \"tokens top_k\"],\n",
        "                           Bool[Array, \"tokens top_k experts\"],\n",
        "                           Float[Array, \"\"]]:\n",
        "        gate_logits = nn.Dense(self.config.num_experts,\n",
        "                               kernel_init=xavier_uniform, name=\"router_gate\")(x)\n",
        "\n",
        "        # Top-k expert selection\n",
        "        scores, expert_indices = jax.lax.top_k(gate_logits, self.config.top_k)\n",
        "        scores = jax.nn.softmax(scores, axis=-1)\n",
        "\n",
        "        # Create expert assignment mask\n",
        "        expert_mask = jax.nn.one_hot(expert_indices, self.config.num_experts)\n",
        "\n",
        "        f_i = jnp.mean(expert_mask, axis=(0, 1))\n",
        "        m_i = jnp.mean(jax.nn.softmax(gate_logits, axis=-1), axis=0)  # Mean probs\n",
        "        aux_loss = self.config.aux_loss_coef * jnp.sum(f_i * m_i) / self.config.num_experts\n",
        "\n",
        "        return expert_indices, scores, expert_mask, aux_loss\n"
      ]
    },
    {
      "cell_type": "markdown",
      "metadata": {
        "id": "_fSqCHN4EGkb"
      },
      "source": [
        "#### Testing Global Router"
      ]
    },
    {
      "cell_type": "code",
      "execution_count": null,
      "metadata": {
        "colab": {
          "base_uri": "https://localhost:8080/"
        },
        "id": "_A8iDoUUEF9z",
        "outputId": "6839391e-fd4b-4f6c-f965-2a059edda953"
      },
      "outputs": [
        {
          "name": "stdout",
          "output_type": "stream",
          "text": [
            "\n",
            "=== GlobalRouter Test ===\n",
            "Expert indices shape: (10, 2)\n",
            "Routing scores shape: (10, 2)\n",
            "Expert mask shape: (10, 2, 32)\n",
            "Aux loss value: 0.0000\n",
            "Aux loss is scalar: True\n"
          ]
        }
      ],
      "source": [
        "rng = jax.random.PRNGKey(0)\n",
        "num_tokens = 10  # batch_size * seq_len\n",
        "dummy_input = jax.random.normal(rng, (num_tokens, 6144))\n",
        "\n",
        "router = GlobalRouter(MiniMaxConfig())\n",
        "params = router.init(rng, dummy_input)\n",
        "indices, scores, mask, loss = router.apply(params, dummy_input)\n",
        "\n",
        "print(\"\\n=== GlobalRouter Test ===\")\n",
        "print(f\"Expert indices shape: {indices.shape}\")\n",
        "print(f\"Routing scores shape: {scores.shape}\")\n",
        "print(f\"Expert mask shape: {mask.shape}\")\n",
        "print(f\"Aux loss value: {loss:.4f}\")\n",
        "print(f\"Aux loss is scalar: {loss.ndim == 0}\")"
      ]
    },
    {
      "cell_type": "code",
      "execution_count": null,
      "metadata": {
        "id": "caoX_NFr9utu"
      },
      "outputs": [],
      "source": [
        "class MoEBlock(nn.Module):\n",
        "    \"\"\"MoE transformer block implementing token-drop strategy with capacity limits.\"\"\"\n",
        "    config: MiniMaxConfig\n",
        "\n",
        "    def setup(self):\n",
        "        self.router = GlobalRouter(self.config)\n",
        "        self.experts = [ExpertMLP(self.config) for _ in range(self.config.num_experts)]\n",
        "\n",
        "    def __call__(self, x: Float[Array, \"batch seq_len hidden\"]) -> Tuple[Float[Array, \"batch seq_len hidden\"], Float[Array, \"\"]]:\n",
        "        batch_size, seq_len, _ = x.shape\n",
        "        num_tokens = batch_size * seq_len\n",
        "        x_flat = x.reshape(num_tokens, -1)  # [tokens, hidden]\n",
        "\n",
        "        # Get routing decisions\n",
        "        expert_indices, scores, expert_mask, aux_loss = self.router(x_flat)\n",
        "\n",
        "        assert expert_indices.shape == (num_tokens, self.config.top_k), \"Expert indices shape mismatch\"\n",
        "        assert scores.shape == (num_tokens, self.config.top_k), \"Scores shape mismatch\"\n",
        "        assert expert_mask.shape == (num_tokens, self.config.top_k, self.config.num_experts), \"Expert mask shape mismatch\"\n",
        "\n",
        "        output = jnp.zeros_like(x_flat)\n",
        "        for expert_idx in range(self.config.num_experts):\n",
        "            output += self._process_expert(\n",
        "                x_flat,\n",
        "                expert_idx,\n",
        "                expert_mask[..., expert_idx],  # [tokens, top_k]\n",
        "                scores,  # [tokens, top_k]\n",
        "                num_tokens\n",
        "            )\n",
        "\n",
        "        return output.reshape(batch_size, seq_len, -1), aux_loss\n",
        "\n",
        "    def _process_expert(\n",
        "        self,\n",
        "        x: Float[Array, \"tokens hidden\"],\n",
        "        expert_idx: int,\n",
        "        mask: Bool[Array, \"tokens top_k\"],\n",
        "        scores: Float[Array, \"tokens top_k\"],\n",
        "        num_tokens: int\n",
        "    ) -> Float[Array, \"tokens hidden\"]:\n",
        "        \"\"\"Process tokens through a single expert with capacity constraints.\"\"\"\n",
        "        capacity = max((num_tokens * self.config.top_k) // self.config.num_experts, 1)\n",
        "\n",
        "        # Select tokens and scores with validation\n",
        "        tokens, scores_expert = self._select_tokens(x, scores, mask, capacity)\n",
        "        assert tokens.shape[0] <= capacity, \"Token selection exceeds capacity\"\n",
        "        assert scores_expert.shape == (capacity,), \"Scores shape mismatch\"\n",
        "\n",
        "        # Process through expert\n",
        "        expert_out = self.experts[expert_idx](tokens)\n",
        "        assert expert_out.shape == (capacity, self.config.hidden_size), \"Expert output shape mismatch\"\n",
        "\n",
        "        # Scatter outputs with dimension checks\n",
        "        scattered = self._scatter_outputs(\n",
        "            expert_out, scores_expert, mask, capacity, num_tokens\n",
        "        )\n",
        "        assert scattered.shape == (num_tokens, self.config.hidden_size), \"Scattering shape mismatch\"\n",
        "\n",
        "        return scattered\n",
        "\n",
        "    def _select_tokens(\n",
        "        self,\n",
        "        x: Float[Array, \"tokens hidden\"],\n",
        "        scores: Float[Array, \"tokens top_k\"],\n",
        "        mask: Bool[Array, \"tokens top_k\"],\n",
        "        capacity: int\n",
        "    ) -> Tuple[Float[Array, \"capacity hidden\"], Float[Array, \"capacity\"]]:\n",
        "        \"\"\"Select tokens for expert processing based on routing scores.\"\"\"\n",
        "\n",
        "        # Get raw indices [capacity, 2]\n",
        "        token_indices = jnp.argwhere(mask, size=capacity, fill_value=-1)\n",
        "\n",
        "        # Validate indices\n",
        "        assert token_indices.shape == (capacity, 2), f\"Indices shape {token_indices.shape} != ({capacity}, 2)\"\n",
        "\n",
        "        # Extract coordinates\n",
        "        i_indices = token_indices[..., 0]  # [capacity]\n",
        "        j_indices = token_indices[..., 1]  # [capacity]\n",
        "        valid_mask = (i_indices != -1) & (j_indices != -1)\n",
        "\n",
        "        # Get scores for selected positions\n",
        "        scores_expert = scores[i_indices, j_indices] * valid_mask\n",
        "\n",
        "        # Sort by scores (descending) with valid entries first\n",
        "        sort_order = jnp.argsort(-scores_expert)\n",
        "\n",
        "        return x[i_indices][sort_order], scores_expert[sort_order]\n",
        "\n",
        "    def _scatter_outputs(\n",
        "        self,\n",
        "        expert_out: Float[Array, \"capacity hidden\"],\n",
        "        scores: Float[Array, \"capacity\"],\n",
        "        mask: Bool[Array, \"tokens top_k\"],\n",
        "        capacity: int,\n",
        "        num_tokens: int\n",
        "    ) -> Float[Array, \"tokens hidden\"]:\n",
        "        \"\"\"Distribute expert outputs back to original token positions.\"\"\"\n",
        "        # Get token indices (i) from mask [capacity]\n",
        "        token_indices = jnp.argwhere(mask, size=capacity, fill_value=-1)[..., 0]\n",
        "        valid = token_indices != -1\n",
        "\n",
        "        # Calculate weighted outputs\n",
        "        weighted = expert_out * scores[:, None] * valid[:, None]\n",
        "\n",
        "        # Validate scattering dimensions\n",
        "        assert weighted.shape == (capacity, self.config.hidden_size), f\"Weighted shape {weighted.shape} mismatch\"\n",
        "        assert token_indices.shape == (capacity,), f\"Indices shape {token_indices.shape} mismatch\"\n",
        "\n",
        "        # Aggregate outputs\n",
        "        return jax.ops.segment_sum(\n",
        "            weighted,\n",
        "            token_indices,\n",
        "            num_segments=num_tokens\n",
        "        )"
      ]
    },
    {
      "cell_type": "markdown",
      "metadata": {
        "id": "o8gr5qE1_XLM"
      },
      "source": [
        "### Testing MoE Block"
      ]
    },
    {
      "cell_type": "code",
      "execution_count": null,
      "metadata": {
        "id": "P9lgZeFm_ZoS"
      },
      "outputs": [],
      "source": [
        "config = MiniMaxConfig(\n",
        "    ffw_hidden_size=9216,\n",
        "    num_experts=8,\n",
        "    top_k=2,\n",
        "    hidden_size=6144\n",
        ")\n",
        "batch_size = 4\n",
        "seq_len = 512"
      ]
    },
    {
      "cell_type": "code",
      "execution_count": null,
      "metadata": {
        "colab": {
          "base_uri": "https://localhost:8080/"
        },
        "id": "Iq_5K7fZ_bOk",
        "outputId": "777ced81-7d9e-46f9-83a4-ea1de836cea7"
      },
      "outputs": [
        {
          "name": "stdout",
          "output_type": "stream",
          "text": [
            "\n",
            "=== Creating MoE Block ===\n",
            "Config: MiniMaxConfig(ffw_hidden_size=9216, num_experts=8, top_k=2, aux_loss_coef=0.01, num_heads=64, head_dim=128, group_size=8, num_layers=80, linear_per_softmax=7, hidden_size=6144, deepnorm_alpha=0.81, rope_fraction=0.5, rope_base_freq=10000)\n",
            "MoE block created with:\n",
            "- 8 experts\n",
            "- Top-2 routing\n",
            "- Expert hidden size: 9216\n"
          ]
        }
      ],
      "source": [
        "print(\"\\n=== Creating MoE Block ===\")\n",
        "print(f\"Config: {config}\")\n",
        "moe_block = MoEBlock(config)\n",
        "print(\"MoE block created with:\")\n",
        "print(f\"- {config.num_experts} experts\")\n",
        "print(f\"- Top-{config.top_k} routing\")\n",
        "print(f\"- Expert hidden size: {config.ffw_hidden_size}\")\n"
      ]
    },
    {
      "cell_type": "code",
      "execution_count": null,
      "metadata": {
        "id": "8HRw2a9h_jWV"
      },
      "outputs": [],
      "source": [
        "rng = jax.random.PRNGKey(0)\n",
        "dummy_input = jax.random.normal(rng, (batch_size, seq_len, config.hidden_size))\n",
        "params = moe_block.init(rng, dummy_input)\n"
      ]
    },
    {
      "cell_type": "code",
      "execution_count": null,
      "metadata": {
        "colab": {
          "base_uri": "https://localhost:8080/"
        },
        "id": "Aa9vTcaW_XBi",
        "outputId": "27ebf796-141b-4cdf-afdd-971272e150c4"
      },
      "outputs": [
        {
          "name": "stdout",
          "output_type": "stream",
          "text": [
            "\n",
            "=== MoE Block Forward Pass ===\n",
            "Input shape: (4, 512, 6144)\n",
            "Input stats - Mean: -0.0008, Std: 0.9996\n",
            "\n",
            "=== Output Verification ===\n",
            "Output shape: (4, 512, 6144)\n",
            "Output matches input shape: True\n",
            "Output stats - Mean: 0.0022, Std: 0.5265\n",
            "\n",
            "=== Auxiliary Loss Check ===\n",
            "Aux loss value: 0.0002\n",
            "Aux loss is scalar: True\n",
            "\n",
            "=== Sanity Checks ===\n",
            "Output is all zeros: False\n",
            "Gate weights shape: (6144, 8)\n",
            "Gate bias shape: (8,)\n"
          ]
        }
      ],
      "source": [
        "print(\"\\n=== MoE Block Forward Pass ===\")\n",
        "# Generate test input with random values\n",
        "test_input = jax.random.normal(rng, (batch_size, seq_len, config.hidden_size))\n",
        "print(f\"Input shape: {test_input.shape}\")\n",
        "print(f\"Input stats - Mean: {jnp.mean(test_input):.4f}, Std: {jnp.std(test_input):.4f}\")\n",
        "\n",
        "# Run forward pass\n",
        "output, aux_loss = moe_block.apply(params, test_input)\n",
        "\n",
        "print(\"\\n=== Output Verification ===\")\n",
        "print(f\"Output shape: {output.shape}\")\n",
        "print(f\"Output matches input shape: {output.shape == test_input.shape}\")\n",
        "print(f\"Output stats - Mean: {jnp.mean(output):.4f}, Std: {jnp.std(output):.4f}\")\n",
        "\n",
        "print(\"\\n=== Auxiliary Loss Check ===\")\n",
        "print(f\"Aux loss value: {aux_loss:.4f}\")\n",
        "print(f\"Aux loss is scalar: {aux_loss.ndim == 0}\")\n",
        "\n",
        "print(\"\\n=== Sanity Checks ===\")\n",
        "# Verify non-zero output\n",
        "print(f\"Output is all zeros: {jnp.allclose(output, 0)}\")\n",
        "\n",
        "# Verify expert diversity\n",
        "gate_params = params['params']['router']['router_gate']\n",
        "print(f\"Gate weights shape: {gate_params['kernel'].shape}\")\n",
        "print(f\"Gate bias shape: {gate_params['bias'].shape}\")"
      ]
    },
    {
      "cell_type": "markdown",
      "metadata": {
        "id": "HA0Hu90qHAh2"
      },
      "source": [
        "# Classical Transformer\n"
      ]
    },
    {
      "cell_type": "markdown",
      "metadata": {
        "id": "oniBl-1uHFWl"
      },
      "source": [
        "## Transformer Block"
      ]
    },
    {
      "cell_type": "code",
      "execution_count": null,
      "metadata": {
        "id": "6zOTAUjf9-M9"
      },
      "outputs": [],
      "source": [
        "class TransformerBlock(nn.Module):\n",
        "    config: MiniMaxConfig\n",
        "\n",
        "    # in progress"
      ]
    }
  ],
  "metadata": {
    "accelerator": "GPU",
    "colab": {
      "gpuType": "T4",
      "provenance": []
    },
    "kernelspec": {
      "display_name": "jax",
      "language": "python",
      "name": "python3"
    },
    "language_info": {
      "codemirror_mode": {
        "name": "ipython",
        "version": 3
      },
      "file_extension": ".py",
      "mimetype": "text/x-python",
      "name": "python",
      "nbconvert_exporter": "python",
      "pygments_lexer": "ipython3",
      "version": "3.9.21"
    }
  },
  "nbformat": 4,
  "nbformat_minor": 0
}
